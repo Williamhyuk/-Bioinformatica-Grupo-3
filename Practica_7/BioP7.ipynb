{
  "nbformat": 4,
  "nbformat_minor": 0,
  "metadata": {
    "colab": {
      "name": "BioP7.ipynb",
      "private_outputs": true,
      "provenance": [],
      "collapsed_sections": []
    },
    "kernelspec": {
      "name": "python3",
      "display_name": "Python 3"
    },
    "language_info": {
      "name": "python"
    }
  },
  "cells": [
    {
      "cell_type": "code",
      "metadata": {
        "id": "LdX7lyUXJzfr"
      },
      "source": [
        "pip install biopython"
      ],
      "execution_count": null,
      "outputs": []
    },
    {
      "cell_type": "code",
      "metadata": {
        "id": "p2VZ8HwzHWOy"
      },
      "source": [
        "from Bio import SeqIO\n",
        "import numpy as np"
      ],
      "execution_count": null,
      "outputs": []
    },
    {
      "cell_type": "code",
      "metadata": {
        "id": "MSTQ_a3XHa32"
      },
      "source": [
        "# ESTE SOLO ME BOTA LA MATRIZ DE SCORE\n",
        "def crear_matriz(n,m):\n",
        "  #creamos la matriz de ceros\n",
        "  matriz = np.zeros((n+1,m+1))\n",
        "  return matriz\n",
        "\n",
        "def S(a,b):\n",
        "  if (a == b):\n",
        "    return 2\n",
        "  elif ((a==\"A\" and b==\"G\") or (a==\"C\" and b==\"T\") or (a==\"G\" and b==\"A\") or (a==\"T\" and b==\"C\")):\n",
        "    return -5\n",
        "  else:\n",
        "    return -7\n",
        "\n",
        "def sw(seq1,seq2,gap):\n",
        "  lens1=len(seq1)\n",
        "  lens2=len(seq2)\n",
        "  #creamos la matriz de ceros\n",
        "  m_inicial=crear_matriz(lens1,lens2)\n",
        "  punteros = crear_matriz(lens1,lens2)\n",
        "  #Llenamos la primera fila y la primera columna de acuerdo al gap\n",
        "  #m_inicial[:,0] = np.linspace(0,lens1*0,lens1 + 1)\n",
        "  #m_inicial[0,:] = np.linspace(0,lens2*0,lens2 + 1)\n",
        "  m_scores = m_inicial\n",
        "  T=np.zeros(4) #T[0]:diagonal \\, T[1]:arriba |, T[2]: izquierda <-- y T[3]:0\n",
        "  for i in range(lens1):\n",
        "    for j in range(lens2):\n",
        "      T[0]= m_scores[i][j]+S(seq1[i],seq2[j])\n",
        "      T[1]= m_scores[i,j+1] + gap\n",
        "      T[2]= m_scores[i+1,j] + gap\n",
        "      tmax = np.max(T)\n",
        "      m_scores[i+1,j+1] = tmax\n",
        "  print(m_scores) \n",
        "\n",
        "sw(\"AGC\",\"AAG\",-5) #3x4"
      ],
      "execution_count": null,
      "outputs": []
    },
    {
      "cell_type": "code",
      "metadata": {
        "id": "x44MM7MppVKT"
      },
      "source": [
        "# AQUI ESTOY MODIFICANDO \n",
        "# ESTEEEEEEEEEEEEE FUNCIONA PERO SOLO ME BOTA UNA ALINEACION\n",
        "def crear_matriz(n,m):\n",
        "  #creamos la matriz de ceros\n",
        "  matriz = np.zeros((n+1,m+1))\n",
        "  return matriz\n",
        "\n",
        "def S(a,b,S,identicalMatch,mismatch):\n",
        "  if (S == True):\n",
        "    if (a == b):\n",
        "      return 2\n",
        "    elif ((a==\"A\" and b==\"G\") or (a==\"C\" and b==\"T\") or (a==\"G\" and b==\"A\") or (a==\"T\" and b==\"C\")):\n",
        "      return -5\n",
        "    else:\n",
        "      return -7\n",
        "  else:\n",
        "    match = identicalMatch\n",
        "    difmatch = mismatch\n",
        "    if (a == b):\n",
        "      return match\n",
        "    else:\n",
        "      return difmatch\n",
        "def finalize(align1, align2,Ss,identicalMatch,mismatch,gap):\n",
        "    align1 = align1[::-1]    \n",
        "    align2 = align2[::-1]    \n",
        "    \n",
        "    i,j = 0,0\n",
        "    \n",
        "    score = 0\n",
        "    for i in range(0,len(align1)):\n",
        "        # if two AAs are the same, then output the letter\n",
        "        if align1[i] == align2[i]:                \n",
        "            score += S(align1[i], align2[i],Ss,identicalMatch,mismatch)\n",
        "    \n",
        "        # if they are not identical and none of them is gap\n",
        "        elif align1[i] != align2[i] and align1[i] != '-' and align2[i] != '-': \n",
        "            score += S(align1[i], align2[i],Ss,identicalMatch,mismatch)\n",
        "    \n",
        "        #if one of them is a gap, output a space\n",
        "        elif align1[i] == \"-\" or align2[i] == \"-\":          \n",
        "            score += gap\n",
        "    \n",
        "    print (\"Score = \", score)\n",
        "    print (align1)\n",
        "    print (align2)\n",
        "\n",
        "def sw(seq1,seq2,Ss,gapcost,identicalMatch=0,mismatch=-0):\n",
        "  lens1=len(seq1)\n",
        "  lens2=len(seq2)\n",
        "  #creamos la matriz de ceros\n",
        "  m_inicial=crear_matriz(lens1,lens2)\n",
        "  punteros = crear_matriz(lens1,lens2)\n",
        "\n",
        "  #Llenamos la primera fila y la primera columna de acuerdo al gap\n",
        "  #m_inicial[:,0] = np.linspace(0,lens1*0,lens1 + 1)\n",
        "  #m_inicial[0,:] = np.linspace(0,lens2*0,lens2 + 1)\n",
        "  m_scores = m_inicial\n",
        "  T=np.zeros(4) #T[0]:diagonal \\, T[1]:arriba |, T[2]: izquierda <-- y T[3]:0\n",
        "  for i in range(lens1):\n",
        "    for j in range(lens2):\n",
        "      T[0]= m_scores[i][j] + S(seq1[i],seq2[j],Ss,identicalMatch,mismatch)\n",
        "      T[1]= m_scores[i][j+1] + gapcost\n",
        "      T[2]= m_scores[i+1][j] + gapcost\n",
        "      tmax = np.max(T)\n",
        "      m_scores[i+1][j+1] = tmax\n",
        "      if m_scores[i+1][j+1] == 0:\n",
        "          punteros[i+1][j+1] = 0 # 0 means end of the path\n",
        "      if m_scores[i+1][j+1] == T[2]: \n",
        "          punteros[i+1][j+1] = 3 # 3 means trace left\n",
        "      if m_scores[i+1][j+1] == T[1]:\n",
        "          punteros[i+1][j+1] = 2 # 2 means trace up\n",
        "      if m_scores[i+1][j+1] == T[0]:\n",
        "          punteros[i+1][j+1] = 1 # 1 means trace diagonal\n",
        "           \n",
        "  print(\"Matriz de scores\") \n",
        "  print(m_scores)\n",
        "  print(\"Matriz de Punteros\")\n",
        "  print(punteros)\n",
        "  max_score = 0\n",
        "  pos_max =np.zeros(2)\n",
        "  for k in range(lens1+1):\n",
        "    for l in range(lens2+1):\n",
        "      if (m_scores[k][l]>= max_score):\n",
        "        max_score=m_scores[k][l]\n",
        "        pos_max[0]=k\n",
        "        pos_max[1]=l\n",
        "  \n",
        "  align1=\"\"\n",
        "  align2=\"\"\n",
        "  i=int(pos_max[0])\n",
        "  j=int(pos_max[1])\n",
        "  # 1 : DIAGONAL- 2: up - 3: left\n",
        "  while punteros[i][j] != 0:\n",
        "    if punteros[i][j] == 1:\n",
        "        align1 += seq1[i-1]\n",
        "        align2 += seq2[j-1]\n",
        "        i -= 1\n",
        "        j -= 1\n",
        "    elif punteros[i][j] == 2:\n",
        "        align1 += '-'\n",
        "        align2 += seq2[j-1]\n",
        "        j -= 1\n",
        "    elif punteros[i][j] == 3:\n",
        "        align1 += seq1[i-1]\n",
        "        align2 += '-'\n",
        "        i -= 1 \n",
        "\n",
        "  finalize(align1,align2,Ss,identicalMatch,mismatch,gapcost)  \n"
      ],
      "execution_count": null,
      "outputs": []
    },
    {
      "cell_type": "code",
      "metadata": {
        "id": "GYNAEfHf4Wvo"
      },
      "source": [
        "s1=\"AGC\"\n",
        "s2=\"AAG\"\n",
        "# parametros:sw(seq1,seq2,Ss,gapcost,identicalMatch=-1,mismatch=-1)\n",
        "# es True si hay matriz de similitud\n",
        "# es False si no hay matriz de similitud\n",
        "sw(s1,s2,True,-5) #3x4"
      ],
      "execution_count": null,
      "outputs": []
    },
    {
      "cell_type": "code",
      "metadata": {
        "id": "ZSZxeeSk6FsO"
      },
      "source": [
        "sequences = SeqIO.parse(\"Q5H8A6.fasta\", \"fasta\")\n",
        "for record in sequences:\n",
        "   data1 = str(record.seq.upper()) # the fasta file just have one sequence\n",
        "sequences = SeqIO.parse(\"Q41131.fasta\", \"fasta\")\n",
        "for record in sequences:\n",
        "   data2 = str(record.seq.upper()) # the fasta file just have one sequence\n",
        "\n",
        "# parametros:sw(seq1,seq2,Ss,gapcost,identicalMatch=-1,mismatch=-1)\n",
        "# es True si hay matriz de similitud\n",
        "# es False si no hay matriz de similitud\n",
        "sw(data1,data2,False,-5,2,-2) #3x4"
      ],
      "execution_count": null,
      "outputs": []
    },
    {
      "cell_type": "code",
      "metadata": {
        "id": "Eb3gmkaUOAcQ"
      },
      "source": [
        "sequences = SeqIO.parse(\"Q5H8A6.fasta\", \"fasta\")\n",
        "for record in sequences:\n",
        "   data1 = str(record.seq.upper()) # the fasta file just have one sequence\n",
        "sequences = SeqIO.parse(\"Q41131.fasta\", \"fasta\")\n",
        "for record in sequences:\n",
        "   data2 = str(record.seq.upper()) # the fasta file just have one sequence\n",
        "\n",
        "# parametros:sw(seq1,seq2,Ss,gapcost,identicalMatch=-1,mismatch=-1)\n",
        "# es True si hay matriz de similitud\n",
        "# es False si no hay matriz de similitud\n",
        "sw(data1,data2,False,-2,1,-1) #3x4"
      ],
      "execution_count": null,
      "outputs": []
    },
    {
      "cell_type": "code",
      "metadata": {
        "id": "4SdDyxG7N_6f"
      },
      "source": [
        "sequences = SeqIO.parse(\"Q5H8A6.fasta\", \"fasta\")\n",
        "for record in sequences:\n",
        "   data1 = str(record.seq.upper()) # the fasta file just have one sequence\n",
        "sequences = SeqIO.parse(\"Q41131.fasta\", \"fasta\")\n",
        "for record in sequences:\n",
        "   data2 = str(record.seq.upper()) # the fasta file just have one sequence\n",
        "\n",
        "# parametros:sw(seq1,seq2,Ss,gapcost,identicalMatch=-1,mismatch=-1)\n",
        "# es True si hay matriz de similitud\n",
        "# es False si no hay matriz de similitud\n",
        "sw(data1,data2,False,-1,1,-2) #3x4"
      ],
      "execution_count": null,
      "outputs": []
    }
  ]
}